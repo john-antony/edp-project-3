{
 "cells": [
  {
   "cell_type": "code",
   "execution_count": 1,
   "metadata": {},
   "outputs": [
    {
     "name": "stdout",
     "output_type": "stream",
     "text": [
      "First few rows of the DataFrame:\n",
      "             timestamp  unit_id     unit_type  location_x  location_y  \\\n",
      "0  2023-06-13 17:33:18        1         at-st         2.0         8.0   \n",
      "1  2023-06-13 17:33:17        2  tie_silencer         4.0         4.0   \n",
      "2  2023-06-13 17:33:16        3         at-at         0.0         3.0   \n",
      "3  2023-06-13 17:33:15        4  tie_silencer         6.0         1.0   \n",
      "4  2023-06-13 17:33:14        5   tie_fighter         0.0         4.0   \n",
      "\n",
      "   destination_x  destination_y    homeworld  \n",
      "0              1              1  Glee Anselm  \n",
      "1              0              1    Trandosha  \n",
      "2              6              1     Corellia  \n",
      "3              6              9        Shili  \n",
      "4              9              6   Muunilinst  \n"
     ]
    }
   ],
   "source": [
    "import pandas as pd\n",
    "import numpy as np\n",
    "\n",
    "# Load the dataset\n",
    "data = pd.read_csv('troop_movements10m.csv')\n",
    "\n",
    "# Display the first few rows of the DataFrame\n",
    "print(\"First few rows of the DataFrame:\")\n",
    "print(data.head())"
   ]
  },
  {
   "cell_type": "code",
   "execution_count": 2,
   "metadata": {},
   "outputs": [
    {
     "data": {
      "text/plain": [
       "unit_type\n",
       "at-at                 1426525\n",
       "at-st                 1426173\n",
       "invalid_unit            10000\n",
       "resistance_soldier    1425774\n",
       "stormtrooper          1428291\n",
       "tie_fighter           1426809\n",
       "tie_silencer          1428016\n",
       "x-wing                1428412\n",
       "dtype: int64"
      ]
     },
     "execution_count": 2,
     "metadata": {},
     "output_type": "execute_result"
    }
   ],
   "source": [
    "data.groupby('unit_type').size()"
   ]
  },
  {
   "cell_type": "code",
   "execution_count": 3,
   "metadata": {},
   "outputs": [],
   "source": [
    "data['unit_type'] = data['unit_type'].replace('invalid_unit', 'unknown')"
   ]
  },
  {
   "cell_type": "code",
   "execution_count": 4,
   "metadata": {},
   "outputs": [
    {
     "data": {
      "text/plain": [
       "unit_type\n",
       "at-at                 1426525\n",
       "at-st                 1426173\n",
       "resistance_soldier    1425774\n",
       "stormtrooper          1428291\n",
       "tie_fighter           1426809\n",
       "tie_silencer          1428016\n",
       "unknown                 10000\n",
       "x-wing                1428412\n",
       "dtype: int64"
      ]
     },
     "execution_count": 4,
     "metadata": {},
     "output_type": "execute_result"
    }
   ],
   "source": [
    "data.groupby('unit_type').size()"
   ]
  },
  {
   "cell_type": "code",
   "execution_count": 5,
   "metadata": {},
   "outputs": [
    {
     "name": "stderr",
     "output_type": "stream",
     "text": [
      "C:\\Users\\wasadmin\\AppData\\Local\\Temp\\2\\ipykernel_5020\\1741177506.py:1: FutureWarning: A value is trying to be set on a copy of a DataFrame or Series through chained assignment using an inplace method.\n",
      "The behavior will change in pandas 3.0. This inplace method will never work because the intermediate object on which we are setting values always behaves as a copy.\n",
      "\n",
      "For example, when doing 'df[col].method(value, inplace=True)', try using 'df.method({col: value}, inplace=True)' or df[col] = df[col].method(value) instead, to perform the operation inplace on the original object.\n",
      "\n",
      "\n",
      "  data['location_x'].fillna( method ='ffill', inplace = True)\n",
      "C:\\Users\\wasadmin\\AppData\\Local\\Temp\\2\\ipykernel_5020\\1741177506.py:1: FutureWarning: Series.fillna with 'method' is deprecated and will raise in a future version. Use obj.ffill() or obj.bfill() instead.\n",
      "  data['location_x'].fillna( method ='ffill', inplace = True)\n"
     ]
    }
   ],
   "source": [
    "data['location_x'].fillna( method ='ffill', inplace = True) "
   ]
  },
  {
   "cell_type": "code",
   "execution_count": 6,
   "metadata": {},
   "outputs": [
    {
     "data": {
      "text/plain": [
       "0"
      ]
     },
     "execution_count": 6,
     "metadata": {},
     "output_type": "execute_result"
    }
   ],
   "source": [
    "data['location_x'].isnull().sum()"
   ]
  },
  {
   "cell_type": "code",
   "execution_count": 7,
   "metadata": {},
   "outputs": [
    {
     "data": {
      "text/plain": [
       "500"
      ]
     },
     "execution_count": 7,
     "metadata": {},
     "output_type": "execute_result"
    }
   ],
   "source": [
    "data['location_y'].isnull().sum()"
   ]
  },
  {
   "cell_type": "code",
   "execution_count": 8,
   "metadata": {},
   "outputs": [
    {
     "name": "stderr",
     "output_type": "stream",
     "text": [
      "C:\\Users\\wasadmin\\AppData\\Local\\Temp\\2\\ipykernel_5020\\4084311988.py:1: FutureWarning: A value is trying to be set on a copy of a DataFrame or Series through chained assignment using an inplace method.\n",
      "The behavior will change in pandas 3.0. This inplace method will never work because the intermediate object on which we are setting values always behaves as a copy.\n",
      "\n",
      "For example, when doing 'df[col].method(value, inplace=True)', try using 'df.method({col: value}, inplace=True)' or df[col] = df[col].method(value) instead, to perform the operation inplace on the original object.\n",
      "\n",
      "\n",
      "  data['location_y'].fillna( method ='ffill', inplace = True)\n",
      "C:\\Users\\wasadmin\\AppData\\Local\\Temp\\2\\ipykernel_5020\\4084311988.py:1: FutureWarning: Series.fillna with 'method' is deprecated and will raise in a future version. Use obj.ffill() or obj.bfill() instead.\n",
      "  data['location_y'].fillna( method ='ffill', inplace = True)\n"
     ]
    }
   ],
   "source": [
    "data['location_y'].fillna( method ='ffill', inplace = True) "
   ]
  },
  {
   "cell_type": "code",
   "execution_count": 9,
   "metadata": {},
   "outputs": [
    {
     "data": {
      "text/plain": [
       "0"
      ]
     },
     "execution_count": 9,
     "metadata": {},
     "output_type": "execute_result"
    }
   ],
   "source": [
    "data['location_y'].isnull().sum()\n"
   ]
  },
  {
   "cell_type": "code",
   "execution_count": 10,
   "metadata": {},
   "outputs": [
    {
     "name": "stdout",
     "output_type": "stream",
     "text": [
      "Defaulting to user installation because normal site-packages is not writeableNote: you may need to restart the kernel to use updated packages.\n",
      "\n",
      "Requirement already satisfied: pyarrow in c:\\users\\wasadmin\\appdata\\roaming\\python\\python312\\site-packages (16.1.0)\n",
      "Requirement already satisfied: numpy>=1.16.6 in c:\\users\\wasadmin\\appdata\\roaming\\python\\python312\\site-packages (from pyarrow) (1.26.4)\n"
     ]
    }
   ],
   "source": [
    "pip install pyarrow\n"
   ]
  },
  {
   "cell_type": "code",
   "execution_count": 11,
   "metadata": {},
   "outputs": [
    {
     "name": "stdout",
     "output_type": "stream",
     "text": [
      "Defaulting to user installation because normal site-packages is not writeableNote: you may need to restart the kernel to use updated packages.\n"
     ]
    },
    {
     "name": "stderr",
     "output_type": "stream",
     "text": [
      "  error: subprocess-exited-with-error\n",
      "  \n",
      "  × Building wheel for fastparquet (pyproject.toml) did not run successfully.\n",
      "  │ exit code: 1\n",
      "  ╰─> [140 lines of output]\n",
      "      fatal: not a git repository (or any of the parent directories): .git\n",
      "      WARNING setuptools_scm.pyproject_reading toml section missing 'pyproject.toml does not contain a tool.setuptools_scm section'\n",
      "      Traceback (most recent call last):\n",
      "        File \"C:\\Users\\wasadmin\\AppData\\Local\\Temp\\2\\pip-build-env-qbyz5z98\\overlay\\Lib\\site-packages\\setuptools_scm\\_integration\\pyproject_reading.py\", line 36, in read_pyproject\n",
      "          section = defn.get(\"tool\", {})[tool_name]\n",
      "                    ~~~~~~~~~~~~~~~~~~~~^^^^^^^^^^^\n",
      "      KeyError: 'setuptools_scm'\n",
      "      running bdist_wheel\n",
      "      running build\n",
      "      running build_py\n",
      "      creating build\n",
      "      creating build\\lib.win-amd64-cpython-312\n",
      "      creating build\\lib.win-amd64-cpython-312\\fastparquet\n",
      "      copying fastparquet\\api.py -> build\\lib.win-amd64-cpython-312\\fastparquet\n",
      "      copying fastparquet\\compression.py -> build\\lib.win-amd64-cpython-312\\fastparquet\n",
      "      copying fastparquet\\converted_types.py -> build\\lib.win-amd64-cpython-312\\fastparquet\n",
      "      copying fastparquet\\core.py -> build\\lib.win-amd64-cpython-312\\fastparquet\n",
      "      copying fastparquet\\dataframe.py -> build\\lib.win-amd64-cpython-312\\fastparquet\n",
      "      copying fastparquet\\encoding.py -> build\\lib.win-amd64-cpython-312\\fastparquet\n",
      "      copying fastparquet\\evolve.py -> build\\lib.win-amd64-cpython-312\\fastparquet\n",
      "      copying fastparquet\\json.py -> build\\lib.win-amd64-cpython-312\\fastparquet\n",
      "      copying fastparquet\\schema.py -> build\\lib.win-amd64-cpython-312\\fastparquet\n",
      "      copying fastparquet\\thrift_structures.py -> build\\lib.win-amd64-cpython-312\\fastparquet\n",
      "      copying fastparquet\\util.py -> build\\lib.win-amd64-cpython-312\\fastparquet\n",
      "      copying fastparquet\\writer.py -> build\\lib.win-amd64-cpython-312\\fastparquet\n",
      "      copying fastparquet\\_version.py -> build\\lib.win-amd64-cpython-312\\fastparquet\n",
      "      copying fastparquet\\__init__.py -> build\\lib.win-amd64-cpython-312\\fastparquet\n",
      "      running egg_info\n",
      "      writing fastparquet.egg-info\\PKG-INFO\n",
      "      writing dependency_links to fastparquet.egg-info\\dependency_links.txt\n",
      "      writing requirements to fastparquet.egg-info\\requires.txt\n",
      "      writing top-level names to fastparquet.egg-info\\top_level.txt\n",
      "      ERROR setuptools_scm._file_finders.git listing git files failed - pretending there aren't any\n",
      "      reading manifest file 'fastparquet.egg-info\\SOURCES.txt'\n",
      "      reading manifest template 'MANIFEST.in'\n",
      "      warning: manifest_maker: MANIFEST.in, line 10: path 'fastparquet/test/' cannot end with '/'\n",
      "      \n",
      "      warning: manifest_maker: MANIFEST.in, line 11: path 'fastparquet/benchmarks/' cannot end with '/'\n",
      "      \n",
      "      warning: manifest_maker: MANIFEST.in, line 12: path 'test-data/' cannot end with '/'\n",
      "      \n",
      "      warning: manifest_maker: MANIFEST.in, line 13: path 'docs/' cannot end with '/'\n",
      "      \n",
      "      adding license file 'LICENSE'\n",
      "      writing manifest file 'fastparquet.egg-info\\SOURCES.txt'\n",
      "      C:\\Users\\wasadmin\\AppData\\Local\\Temp\\2\\pip-build-env-qbyz5z98\\overlay\\Lib\\site-packages\\setuptools\\command\\build_py.py:207: _Warning: Package 'fastparquet.parquet_thrift' is absent from the `packages` configuration.\n",
      "      !!\n",
      "      \n",
      "              ********************************************************************************\n",
      "              ############################\n",
      "              # Package would be ignored #\n",
      "              ############################\n",
      "              Python recognizes 'fastparquet.parquet_thrift' as an importable package[^1],\n",
      "              but it is absent from setuptools' `packages` configuration.\n",
      "      \n",
      "              This leads to an ambiguous overall configuration. If you want to distribute this\n",
      "              package, please make sure that 'fastparquet.parquet_thrift' is explicitly added\n",
      "              to the `packages` configuration field.\n",
      "      \n",
      "              Alternatively, you can also rely on setuptools' discovery methods\n",
      "              (for example by using `find_namespace_packages(...)`/`find_namespace:`\n",
      "              instead of `find_packages(...)`/`find:`).\n",
      "      \n",
      "              You can read more about \"package discovery\" on setuptools documentation page:\n",
      "      \n",
      "              - https://setuptools.pypa.io/en/latest/userguide/package_discovery.html\n",
      "      \n",
      "              If you don't want 'fastparquet.parquet_thrift' to be distributed and are\n",
      "              already explicitly excluding 'fastparquet.parquet_thrift' via\n",
      "              `find_namespace_packages(...)/find_namespace` or `find_packages(...)/find`,\n",
      "              you can try to use `exclude_package_data`, or `include-package-data=False` in\n",
      "              combination with a more fine grained `package-data` configuration.\n",
      "      \n",
      "              You can read more about \"package data files\" on setuptools documentation page:\n",
      "      \n",
      "              - https://setuptools.pypa.io/en/latest/userguide/datafiles.html\n",
      "      \n",
      "      \n",
      "              [^1]: For Python, any directory (with suitable naming) can be imported,\n",
      "                    even if it does not contain any `.py` files.\n",
      "                    On the other hand, currently there is no concept of package data\n",
      "                    directory, all directories are treated like packages.\n",
      "              ********************************************************************************\n",
      "      \n",
      "      !!\n",
      "        check.warn(importable)\n",
      "      C:\\Users\\wasadmin\\AppData\\Local\\Temp\\2\\pip-build-env-qbyz5z98\\overlay\\Lib\\site-packages\\setuptools\\command\\build_py.py:207: _Warning: Package 'fastparquet.parquet_thrift.parquet' is absent from the `packages` configuration.\n",
      "      !!\n",
      "      \n",
      "              ********************************************************************************\n",
      "              ############################\n",
      "              # Package would be ignored #\n",
      "              ############################\n",
      "              Python recognizes 'fastparquet.parquet_thrift.parquet' as an importable package[^1],\n",
      "              but it is absent from setuptools' `packages` configuration.\n",
      "      \n",
      "              This leads to an ambiguous overall configuration. If you want to distribute this\n",
      "              package, please make sure that 'fastparquet.parquet_thrift.parquet' is explicitly added\n",
      "              to the `packages` configuration field.\n",
      "      \n",
      "              Alternatively, you can also rely on setuptools' discovery methods\n",
      "              (for example by using `find_namespace_packages(...)`/`find_namespace:`\n",
      "              instead of `find_packages(...)`/`find:`).\n",
      "      \n",
      "              You can read more about \"package discovery\" on setuptools documentation page:\n",
      "      \n",
      "              - https://setuptools.pypa.io/en/latest/userguide/package_discovery.html\n",
      "      \n",
      "              If you don't want 'fastparquet.parquet_thrift.parquet' to be distributed and are\n",
      "              already explicitly excluding 'fastparquet.parquet_thrift.parquet' via\n",
      "              `find_namespace_packages(...)/find_namespace` or `find_packages(...)/find`,\n",
      "              you can try to use `exclude_package_data`, or `include-package-data=False` in\n",
      "              combination with a more fine grained `package-data` configuration.\n",
      "      \n",
      "              You can read more about \"package data files\" on setuptools documentation page:\n",
      "      \n",
      "              - https://setuptools.pypa.io/en/latest/userguide/datafiles.html\n",
      "      \n",
      "      \n",
      "              [^1]: For Python, any directory (with suitable naming) can be imported,\n",
      "                    even if it does not contain any `.py` files.\n",
      "                    On the other hand, currently there is no concept of package data\n",
      "                    directory, all directories are treated like packages.\n",
      "              ********************************************************************************\n",
      "      \n",
      "      !!\n",
      "        check.warn(importable)\n",
      "      copying fastparquet\\cencoding.c -> build\\lib.win-amd64-cpython-312\\fastparquet\n",
      "      copying fastparquet\\cencoding.pyx -> build\\lib.win-amd64-cpython-312\\fastparquet\n",
      "      copying fastparquet\\parquet.thrift -> build\\lib.win-amd64-cpython-312\\fastparquet\n",
      "      copying fastparquet\\speedups.c -> build\\lib.win-amd64-cpython-312\\fastparquet\n",
      "      copying fastparquet\\speedups.pyx -> build\\lib.win-amd64-cpython-312\\fastparquet\n",
      "      creating build\\lib.win-amd64-cpython-312\\fastparquet\\parquet_thrift\n",
      "      copying fastparquet\\parquet_thrift\\__init__.py -> build\\lib.win-amd64-cpython-312\\fastparquet\\parquet_thrift\n",
      "      creating build\\lib.win-amd64-cpython-312\\fastparquet\\parquet_thrift\\parquet\n",
      "      copying fastparquet\\parquet_thrift\\parquet\\__init__.py -> build\\lib.win-amd64-cpython-312\\fastparquet\\parquet_thrift\\parquet\n",
      "      copying fastparquet\\parquet_thrift\\parquet\\ttypes.py -> build\\lib.win-amd64-cpython-312\\fastparquet\\parquet_thrift\\parquet\n",
      "      running build_ext\n",
      "      building 'fastparquet.speedups' extension\n",
      "      error: Microsoft Visual C++ 14.0 or greater is required. Get it with \"Microsoft C++ Build Tools\": https://visualstudio.microsoft.com/visual-cpp-build-tools/\n",
      "      [end of output]\n",
      "  \n",
      "  note: This error originates from a subprocess, and is likely not a problem with pip.\n",
      "  ERROR: Failed building wheel for fastparquet\n",
      "ERROR: Could not build wheels for fastparquet, which is required to install pyproject.toml-based projects\n"
     ]
    },
    {
     "name": "stdout",
     "output_type": "stream",
     "text": [
      "\n",
      "Collecting fastparquet\n",
      "  Using cached fastparquet-2024.5.0.tar.gz (466 kB)\n",
      "  Installing build dependencies: started\n",
      "  Installing build dependencies: finished with status 'done'\n",
      "  Getting requirements to build wheel: started\n",
      "  Getting requirements to build wheel: finished with status 'done'\n",
      "  Installing backend dependencies: started\n",
      "  Installing backend dependencies: finished with status 'done'\n",
      "  Preparing metadata (pyproject.toml): started\n",
      "  Preparing metadata (pyproject.toml): finished with status 'done'\n",
      "Requirement already satisfied: pandas>=1.5.0 in c:\\users\\wasadmin\\appdata\\roaming\\python\\python312\\site-packages (from fastparquet) (2.2.2)\n",
      "Requirement already satisfied: numpy in c:\\users\\wasadmin\\appdata\\roaming\\python\\python312\\site-packages (from fastparquet) (1.26.4)\n",
      "Collecting cramjam>=2.3 (from fastparquet)\n",
      "  Using cached cramjam-2.8.3-cp312-none-win_amd64.whl.metadata (4.3 kB)\n",
      "Collecting fsspec (from fastparquet)\n",
      "  Using cached fsspec-2024.5.0-py3-none-any.whl.metadata (11 kB)\n",
      "Requirement already satisfied: packaging in c:\\users\\wasadmin\\appdata\\roaming\\python\\python312\\site-packages (from fastparquet) (24.0)\n",
      "Requirement already satisfied: python-dateutil>=2.8.2 in c:\\users\\wasadmin\\appdata\\roaming\\python\\python312\\site-packages (from pandas>=1.5.0->fastparquet) (2.9.0.post0)\n",
      "Requirement already satisfied: pytz>=2020.1 in c:\\users\\wasadmin\\appdata\\roaming\\python\\python312\\site-packages (from pandas>=1.5.0->fastparquet) (2024.1)\n",
      "Requirement already satisfied: tzdata>=2022.7 in c:\\users\\wasadmin\\appdata\\roaming\\python\\python312\\site-packages (from pandas>=1.5.0->fastparquet) (2024.1)\n",
      "Requirement already satisfied: six>=1.5 in c:\\users\\wasadmin\\appdata\\roaming\\python\\python312\\site-packages (from python-dateutil>=2.8.2->pandas>=1.5.0->fastparquet) (1.16.0)\n",
      "Using cached cramjam-2.8.3-cp312-none-win_amd64.whl (1.6 MB)\n",
      "Using cached fsspec-2024.5.0-py3-none-any.whl (316 kB)\n",
      "Building wheels for collected packages: fastparquet\n",
      "  Building wheel for fastparquet (pyproject.toml): started\n",
      "  Building wheel for fastparquet (pyproject.toml): finished with status 'error'\n",
      "Failed to build fastparquet\n"
     ]
    }
   ],
   "source": [
    "pip install fastparquet\n"
   ]
  },
  {
   "cell_type": "code",
   "execution_count": 12,
   "metadata": {},
   "outputs": [
    {
     "name": "stdout",
     "output_type": "stream",
     "text": [
      "Done!\n"
     ]
    }
   ],
   "source": [
    "parquet_file = 'troop_movements10m.parquet'\n",
    "data.to_parquet(parquet_file)\n",
    "\n",
    "print('Done!')"
   ]
  },
  {
   "cell_type": "code",
   "execution_count": null,
   "metadata": {},
   "outputs": [],
   "source": []
  }
 ],
 "metadata": {
  "kernelspec": {
   "display_name": "Python 3",
   "language": "python",
   "name": "python3"
  },
  "language_info": {
   "codemirror_mode": {
    "name": "ipython",
    "version": 3
   },
   "file_extension": ".py",
   "mimetype": "text/x-python",
   "name": "python",
   "nbconvert_exporter": "python",
   "pygments_lexer": "ipython3",
   "version": "3.12.3"
  }
 },
 "nbformat": 4,
 "nbformat_minor": 2
}
