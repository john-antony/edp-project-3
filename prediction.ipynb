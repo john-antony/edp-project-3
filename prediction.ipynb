{
 "cells": [
  {
   "cell_type": "code",
   "execution_count": 1,
   "metadata": {},
   "outputs": [
    {
     "name": "stdout",
     "output_type": "stream",
     "text": [
      "First few rows of the DataFrame:\n",
      "             timestamp  unit_id           unit_type empire_or_resistance  \\\n",
      "0  2024-05-20 16:23:05        1         tie_fighter               empire   \n",
      "1  2024-05-20 16:23:04        2  resistance_soldier           resistance   \n",
      "2  2024-05-20 16:23:03        3               at-st           resistance   \n",
      "3  2024-05-20 16:23:02        4               at-st               empire   \n",
      "4  2024-05-20 16:23:01        5               at-at           resistance   \n",
      "\n",
      "   location_x  location_y  destination_x  destination_y homeworld  \n",
      "0           7           9              2              3     Kalee  \n",
      "1           1           5             10              5  Corellia  \n",
      "2           7           8              6              7   Stewjon  \n",
      "3           2           1              1              6  Dathomir  \n",
      "4           5           2             10              8   Troiken  \n"
     ]
    }
   ],
   "source": [
    "import pandas as pd\n",
    "import numpy as np\n",
    "\n",
    "# Load the dataset\n",
    "data = pd.read_csv('troop_movements.csv')\n",
    "\n",
    "# Display the first few rows of the DataFrame\n",
    "print(\"First few rows of the DataFrame:\")\n",
    "print(data.head())\n"
   ]
  },
  {
   "cell_type": "code",
   "execution_count": null,
   "metadata": {},
   "outputs": [],
   "source": []
  }
 ],
 "metadata": {
  "kernelspec": {
   "display_name": "Python 3",
   "language": "python",
   "name": "python3"
  },
  "language_info": {
   "codemirror_mode": {
    "name": "ipython",
    "version": 3
   },
   "file_extension": ".py",
   "mimetype": "text/x-python",
   "name": "python",
   "nbconvert_exporter": "python",
   "pygments_lexer": "ipython3",
   "version": "3.12.3"
  }
 },
 "nbformat": 4,
 "nbformat_minor": 2
}
